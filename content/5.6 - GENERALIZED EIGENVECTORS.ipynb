{
  "metadata": {
    "kernelspec": {
      "name": "python",
      "display_name": "Python (Pyodide)",
      "language": "python"
    },
    "language_info": {
      "codemirror_mode": {
        "name": "python",
        "version": 3
      },
      "file_extension": ".py",
      "mimetype": "text/x-python",
      "name": "python",
      "nbconvert_exporter": "python",
      "pygments_lexer": "ipython3",
      "version": "3.8"
    }
  },
  "nbformat_minor": 5,
  "nbformat": 4,
  "cells": [
    {
      "id": "b7a94ff1-bc57-4b93-b160-10f02262767c",
      "cell_type": "markdown",
      "source": "# Generalized Eigenvectors\n\nIn the previous sections we established conditions for the existence of\na similarity transformation that relates a particular linear operator\nand a similar linear operator induced by a diagonal matrix. We found out\nthat this similarity transformation, if it exists, is induced by a\nmatrix whose columns are the linearly independent eigenvectors of the\noriginal linear operator. These eigenvectors define a basis in which the\nlinear operator is induced by a diagonal matrix.\n\nHowever, there are cases when this is not possible, i.e., we cannot find\na basis in which the linear operator is induced by a diagonal matrix. We\ncan say that the matrix associated with this particular linear operator\nis not diagonalizable. Although this is an inescapable fact caused by\nthe nonexistence of $n$ linearly independent eigenvectors, generalized\neigenvectors offer an alternative basis in which the linear operator is\ninduced by a matrix which is almost diagonal.\n\n**Definition 1**. *Given a linear transformation $A : U \\rightarrow U$,\nwith $\\dim(U) = n$, induced by a square matrix $A$, we say that\n$v \\neq 0$ is a generalized eigenvector of $A$ associated with the\neigenvalue $\\lambda$ if $$(A - \\lambda I)^k v = 0$$ for some nonnegative\ninteger $k \\leq n$.*\n\nWe expect $v$, a generalized eigenvector of $A$, to be linearly\nindependent with respect to all other eigenvectors of $A$ in order to\nform a basis of $U$. The following results will provide the necessary\ntools to prove this statement true.\n\n**Lemma 1**. *Let $A$ be a linear operator in $U$, with $\\dim(U) = n$,\nand let $v$ be a generalized eigenvector of $A$ associated with the\neigenvalue $\\lambda$. For $k$ the smallest positive integer such that\n$(A - \\lambda I)^k v = 0$, the vectors\n$$v, (A - \\lambda I)v, \\ldots, (A - \\lambda I)^{k-1}v$$ are all linearly\nindependent.*\n\n**Proof 1**. *Let $\\{a_i\\}, i = 0, 1, \\ldots, k-1$, be a set of scalars\nsuch that\n$$a_0 v + a_1 (A - \\lambda I)v + \\cdots + a_{k-1} (A - \\lambda I)^{k-1}v = 0$$\nMultiplying both sides of the equation above on the left by\n$(A - \\lambda I)^{k-1}$ gives\n$$a_0 (A - \\lambda I)^{k-1} v = 0 \\Rightarrow a_0 = 0$$ Now multiplying\nboth sides by $(A - \\lambda I)^{k-2}$ gives\n$$a_1 (A - \\lambda I)^{k-1} v = 0 \\Rightarrow a_1 = 0$$ This process can\nbe repeated until we find $a_0 = a_1 = \\cdots = a_{k-1} = 0$. Since this\nis the only linear combination that results in zero, the vectors are\nlinearly independent.*\n\nFor some $k$, the smallest positive integer such that\n$(A - \\lambda I)^k v_k = 0$, with $v_k \\neq 0$, $v_k$ is a generalized\neigenvector of $A$ associated with the eigenvalue $\\lambda$. For\n$k = 1$, $v_1$ is an eigenvector of $A$. From the lemma and the\ndefinition, we can define $v_{k-1}$, also a generalized eigenvector of\n$A$ associated with $\\lambda$ and linearly independent from $v_k$, as\n$v_{k-1} = (A - \\lambda I) v_k$ such that\n$(A - \\lambda I)^k v_k = 0 \\Rightarrow (A - \\lambda I)^{k-1} v_{k-1} = 0$.\n\nThis procedure can be repeated recursively until\n$v_1 = (A - \\lambda I)v_2$ such that\n$(A - \\lambda I)^2 v_2 = 0 \\Rightarrow (A - \\lambda I)v_1 = 0$.\nAlternatively, we can start from $v_1$, an eigenvector of $A$, and build\nthe complete set of $k$ linearly independent generalized eigenvectors of\n$A$ associated with the eigenvalue $\\lambda$ as:\n\n$$\\begin{aligned}\n(A - \\lambda I)v_1 &= 0 \\\\\n(A - \\lambda I)v_2 &= v_1 \\Rightarrow (A - \\lambda I)^2 v_2 = 0 \\\\\n\\vdots \\\\\n(A - \\lambda I)v_k &= v_{k-1} \\Rightarrow (A - \\lambda I)^k v_k = 0\n\\end{aligned}$$\n\n**Theorem 1**. *Let $k$ be the smallest nonnegative integer such that\n$(A - \\lambda I)^k v_k = 0$, with $v_k \\neq 0$. Then\n$\\{v_1, v_2, \\ldots, v_k\\} \\in \\ker(A - \\lambda I)^k$, calculated\naccording to the procedure detailed above, are linearly independent\ngeneralized eigenvectors of $A$ associated with $\\lambda$.*\n\n**Proof 2**. *The proof is a direct consequence of the previous lemma\nand can be carried out as follows. Let\n$\\{v_1, v_2, \\ldots, v_k\\} \\in \\ker(A - \\lambda I)^k$ be the set of\ngeneralized eigenvectors of $A$. From the lemma,\n$v_k, v_{k-1} = (A - \\lambda I)v_k, \\ldots, v_1 = (A - \\lambda I)^{k-1}v_k$\nare all linearly independent.*\n\nWe have previously defined the geometric multiplicity of an eigenvalue\nas the number of one-dimensional invariant subspaces spanned by its\nassociated eigenvectors, or, equivalently, as the largest number of\npossible linearly independent associated eigenvectors. The concept of\ngeneralized eigenvectors just introduced allows us to define a different\nkind of multiplicity:\n\n**Definition 2**. *The algebraic multiplicity of an eigenvalue $\\lambda$\nis the largest number of possible linearly independent generalized\neigenvectors associated with $\\lambda$.*\n\nWe will see, with the aid of the following theorem, that this number is\nequal to the dimension of the null space of $(A - \\lambda I)^n$.\n\n**Theorem 2**. *Let $A$ be a linear operator in $U$, with $\\dim(U) = n$.\nThe set of generalized eigenvectors of $A$ associated with $\\lambda$ is\nequal to $\\ker[(A - \\lambda I)^n]$.*\n\n**Proof 3**. *By the definition of generalized eigenvectors, every\nvector $v$ such that $(A - \\lambda I)^n v = 0$, i.e., every vector in\nthe null space of $(A - \\lambda I)^n$, is a generalized eigenvector of\n$A$. On the other hand, if $v$ is a generalized eigenvector of $A$, then\n$(A - \\lambda I)^k v = 0$ for some integer $k \\leq n$. Consequently,\n$(A - \\lambda I)^n v = 0$.*",
      "metadata": {}
    },
    {
      "id": "9026a039-23fc-4cea-bf12-91b23cd1bada",
      "cell_type": "markdown",
      "source": "### Calculating the Generalized Eigenvectors of Matrices",
      "metadata": {}
    },
    {
      "id": "255b0628-4c98-4cd6-a8ee-c8ce8161db11",
      "cell_type": "markdown",
      "source": "Before seeing some real application, let's see how to calculate generalized eigenvectors in a more pratical way. In the example bellow, you'll be able to choose between 3 predefined defective (non-diagonalizable) matrices. The following tool will show you the eigenvalues of each matrix, just like their algebraic and geometric multiplicities, that'll be used in the calculation of the generalized eigenvectors. Notice that you'll find 2 options called \"Jordan Blocks\", that are, basically, special square matrices associated with only one eigenvalue. A Jordan Block will appear when the matrix A don't have enough eigenvectors to build an eigenvectors basis, it can be represented as\n\n![image.png](attachment:393422ee-48bc-4d76-82f8-43b87dc19cf0.png)  \n\nDon't worry that much about it, we'll study it better in a dedicated Jordan Form notebook.\n\n**Question:** When do we need to calculate the generalized eigenvectors of a matrix? ",
      "metadata": {},
      "attachments": {
        "393422ee-48bc-4d76-82f8-43b87dc19cf0.png": {
          "image/png": "[encoded data removed]"
        }
      }
    },
    {
      "id": "7dd6a20f-9a16-463c-bee1-46a6cbcc946c",
      "cell_type": "code",
      "source": "%pip install -q ipywidgets==8.0.7",
      "metadata": {
        "trusted": true
      },
      "outputs": [],
      "execution_count": 2
    },
    {
      "id": "49886b12-de9c-45fe-8cf1-2f2e041111fa",
      "cell_type": "code",
      "source": "import numpy as np\nimport matplotlib.pyplot as plt\nimport ipywidgets as widgets\nfrom IPython.display import display, Markdown\nfrom scipy.linalg import null_space",
      "metadata": {
        "trusted": true
      },
      "outputs": [],
      "execution_count": 3
    },
    {
      "id": "2bcf8f99-daee-4161-ac85-d55fad4dea13",
      "cell_type": "code",
      "source": "output = widgets.Output()\n\n# --- Predefined defective (non-diagonalizable) matrices ---\npredefined_matrices = {\n    \"2×2 Jordan block (λ=2)\": np.array([[2, 1], [0, 2]]),\n    \"3×3 Jordan block (λ=3)\": np.array([[3, 1, 0], [0, 3, 1], [0, 0, 3]]),\n    \"3×3 repeated eigenvalue (λ=5)\": np.array([[5, 1, 0], [0, 5, 0], [0, 0, 5]])\n}\n\n# Compute eigenvalues and eigenvectors\ndef compute_eigenvalues(matrix):\n    values, vectors = np.linalg.eig(matrix)\n    return values, vectors\n\n# Geometric multiplicity\ndef geometric_multiplicity(matrix, eigenvalue):\n    n = matrix.shape[0]\n    A_minus_lambdaI = matrix - eigenvalue * np.eye(n)\n    rank = np.linalg.matrix_rank(A_minus_lambdaI)\n    return n - rank\n\n# Show eigenvalue multiplicities\ndef show_multiplicities(matrix, eigenvalues):\n    unique_vals, counts = np.unique(np.round(eigenvalues, 5), return_counts=True)\n    needs_generalized = False\n\n    for i, val in enumerate(unique_vals):\n        alg_mult = counts[i]\n        geo_mult = geometric_multiplicity(matrix, val)\n\n        display(Markdown(f\"**Eigenvalue** \\\\( \\\\lambda = {val} \\\\)\"))\n        display(Markdown(f\"- Algebraic Multiplicity: {alg_mult}\"))\n        display(Markdown(f\"- Geometric Multiplicity: {geo_mult}\"))\n\n        if geo_mult < alg_mult:\n            needs_generalized = True\n            display(Markdown(\"⚠️ This eigenvalue does not have enough eigenvectors. Generalized eigenvectors are needed.\"))\n\n    return needs_generalized\n\n# Show generalized eigenvectors\ndef show_generalized_eigenvectors(matrix, eigenvalue):\n    A = matrix\n    n = A.shape[0]\n    I = np.eye(n)\n    N = A - eigenvalue * I\n    N2 = N @ N\n\n    null_N = null_space(N)\n    null_N2 = null_space(N2)\n\n    display(Markdown(f\"### Generalized Eigenvectors for \\\\( \\\\lambda = {eigenvalue} \\\\)\"))\n    display(Markdown(\"#### Step 1: Compute \\\\( A - \\\\lambda I \\\\):\"))\n    display(N)\n\n    if null_N.shape[1] > 0:\n        display(Markdown(\"#### Eigenvectors (from null space of \\\\( A - \\\\lambda I \\\\))\"))\n        for i, v in enumerate(null_N.T):\n            display(Markdown(f\"\\\\( v_{{{i+1}}} = \" + np.array2string(v, precision=3, separator=', ') + \" \\\\)\"))\n    else:\n        display(Markdown(\"❌ No regular eigenvectors found.\"))\n\n    new_generalized = []\n    for vec in null_N2.T:\n        if not np.any(np.all(np.isclose(vec, null_N.T, atol=1e-5), axis=1)):\n            new_generalized.append(vec)\n\n    if new_generalized:\n        display(Markdown(\"#### Generalized eigenvectors (order 2):\"))\n        for i, vec in enumerate(new_generalized):\n            display(Markdown(f\"\\\\( g_{{{i+1}}} = \" + np.array2string(vec, precision=3, separator=', ') + \" \\\\)\"))\n    else:\n        display(Markdown(\"❌ No new generalized eigenvectors found.\"))\n\n# Plot eigenvalues\ndef plot_eigenvalues(values):\n    plt.figure(figsize=(5, 5))\n    plt.axhline(0, color='gray')\n    plt.axvline(0, color='gray')\n    plt.scatter(values.real, values.imag, color='red')\n    plt.xlabel(\"Real Part\")\n    plt.ylabel(\"Imaginary Part\")\n    plt.title(\"Eigenvalues in the Complex Plane\")\n    plt.grid(True)\n    plt.show()\n\n# Run analysis\ndef analyze_matrix(matrix):\n    eigenvalues, _ = compute_eigenvalues(matrix)\n\n    with output:\n        output.clear_output()\n        display(Markdown(\"## Matrix Analysis\"))\n        display(matrix)\n\n        display(Markdown(\"### Eigenvalues and Multiplicities\"))\n        defective = show_multiplicities(matrix, eigenvalues)\n        plot_eigenvalues(eigenvalues)\n\n        if defective:\n            unique = np.unique(np.round(eigenvalues, 5))\n            for val in unique:\n                if geometric_multiplicity(matrix, val) < list(np.round(eigenvalues, 5)).count(val):\n                    show_generalized_eigenvectors(matrix, val)\n\n# Handle matrix selection\ndef on_matrix_selection_change(change):\n    selected_name = change['new']\n    matrix = predefined_matrices[selected_name]\n    analyze_matrix(matrix)\n\n# Dropdown menu for matrix selection\nmatrix_dropdown = widgets.Dropdown(\n    options=list(predefined_matrices.keys()),\n    value=\"2×2 Jordan block (λ=2)\",\n    description=\"Matrix:\",\n    layout=widgets.Layout(width='300px')\n)\nmatrix_dropdown.observe(on_matrix_selection_change, names='value')\n\n# Show UI\ndisplay(Markdown(\"## Generalized Eigenvectors Explorer\"))\ndisplay(Markdown(\"### Step 1: Select a non-diagonalizable matrix\"))\ndisplay(matrix_dropdown, output)\n\n# Run initial matrix analysis\nanalyze_matrix(predefined_matrices[matrix_dropdown.value])",
      "metadata": {
        "trusted": true
      },
      "outputs": [
        {
          "output_type": "display_data",
          "data": {
            "text/plain": "<IPython.core.display.Markdown object>",
            "text/markdown": "## Generalized Eigenvectors Explorer"
          },
          "metadata": {}
        },
        {
          "output_type": "display_data",
          "data": {
            "text/plain": "<IPython.core.display.Markdown object>",
            "text/markdown": "### Step 1: Select a non-diagonalizable matrix"
          },
          "metadata": {}
        },
        {
          "output_type": "display_data",
          "data": {
            "text/plain": "Dropdown(description='Matrix:', layout=Layout(width='300px'), options=('2×2 Jordan block (λ=2)', '3×3 Jordan b…",
            "application/vnd.jupyter.widget-view+json": {
              "version_major": 2,
              "version_minor": 0,
              "model_id": "c81420c0b5c340cf9ccb4b732ade9654"
            }
          },
          "metadata": {}
        },
        {
          "output_type": "display_data",
          "data": {
            "text/plain": "Output()",
            "application/vnd.jupyter.widget-view+json": {
              "version_major": 2,
              "version_minor": 0,
              "model_id": "a2eb9ac8d55f4d6b900d073c84f2d82a"
            }
          },
          "metadata": {}
        }
      ],
      "execution_count": 9
    },
    {
      "id": "959aeaef-7b40-420f-833d-76ed6a33b47f",
      "cell_type": "markdown",
      "source": "---\n### Solving RLC Circuit using Generalized Eigenvectors",
      "metadata": {}
    },
    {
      "id": "57f8fe3b-b154-4f79-8cb7-e4c8341ebddd",
      "cell_type": "markdown",
      "source": "This example models a second-order **electrical RLC circuit** composed of:\n- Two identical loops, each containing a resistor \\( R \\) and inductor \\( L \\)\n- A **shared capacitor** \\( C \\) between the loops\n\n![image.png](attachment:502786a0-15b1-4b13-96e5-a6de295bf29a.png)\n\nWe define a state vector:\n$$\\mathbf{x}(t) = \\begin{bmatrix}\ni_1(t) \\\\\ni_2(t) \\\\\nv_C(t)\n\\end{bmatrix}\n$$\nwhere:\n- **i_1(t)** and **i_2(t)** are the currents in the two loops\n- **v_C(t)** is the voltage across the capacitor\n\n\n\n### How is the system modeled?\n\nApplying **Kirchhoff's laws**, the system becomes:\n\n$$\n\\frac{d\\mathbf{x}}{dt} = A \\mathbf{x}\n$$\n\nwhere the matrix **A** depends on the values of **R**, **L**, and **C**:\n\n$$\nA = \\begin{bmatrix}\n-\\frac{R}{L} & 0 & -\\frac{1}{L} \\\\\n0 & -\\frac{R}{L} & \\frac{1}{L} \\\\\n\\frac{1}{C} & -\\frac{1}{C} & 0\n\\end{bmatrix}\n$$\n\n\n\n### Why are generalized eigenvectors important?\n\nIn some configurations (**R = L = C = 1**), the matrix **A** becomes **defective**:\n- All eigenvalues are the same ($\\lambda = -1$)\n- The matrix **does not have enough linearly independent eigenvectors**\n- Therefore, we must use **generalized eigenvectors** to construct the full solution\n\nThe solution to the system then involves:\n$$\n\\mathbf{x}(t) = e^{\\lambda t} \\left( \\mathbf{v}_1 + t \\mathbf{v}_2 + \\frac{t^2}{2} \\mathbf{v}_3 \\right)\n$$\nwhere $ \\mathbf{v}_1, \\mathbf{v}_2, \\mathbf{v}_3 $ form a **Jordan chain**.\n\n\n\n### What can you do here?\n\n- Adjust **R**, **L** and **C** using sliders\n- See how the matrix **A** changes\n- Observe whether the matrix becomes diagonalizable or defective\n- Explore how the solution behaves over time\n- Understand the role of **generalized eigenvectors** in the time-domain response\n\nTry changing the parameters to **R = L = C = 1** to see a clear example of a **non-diagonalizable system** with repeated eigenvalues!\n",
      "metadata": {},
      "attachments": {
        "502786a0-15b1-4b13-96e5-a6de295bf29a.png": {
          "image/png": "[encoded data removed]"
        }
      }
    },
    {
      "id": "2ab4303f-0b4e-4f78-9d01-08f2e4f7add0",
      "cell_type": "code",
      "source": "import numpy as np\nimport matplotlib.pyplot as plt\nfrom IPython.display import display, Markdown\nfrom scipy.linalg import null_space\nimport ipywidgets as widgets",
      "metadata": {
        "trusted": true
      },
      "outputs": [],
      "execution_count": null
    },
    {
      "id": "383b2a1c-64f9-409a-8323-b91a7233cdb4",
      "cell_type": "code",
      "source": "output = widgets.Output()\n\n# Compute system matrix based on R, L, C\ndef system_matrix(R, L, C):\n    return np.array([[-R/L, 0, -1/L], [0, -R/L, 1/L], [1/C, -1/C, 0]])\n\n# Analyze system matrix A\ndef analyze_matrix(R, L, C):\n    A = system_matrix(R, L, C)\n    eigenvalues, _ = np.linalg.eig(A)\n\n    output.clear_output()\n    with output:\n        display(Markdown(f\"## Analyzing system for R = {R}, L = {L}, C = {C}\"))\n        display(Markdown(\"### Matrix A:\"))\n        display(A)\n        display(Markdown(\"### Eigenvalues:\"))\n        display(eigenvalues)\n\n        N = null_space(A + np.eye(3))\n        display(Markdown(\"### Step 1: Null space of \\\\( A + I \\\\) (Eigenvectors):\"))\n        if N.shape[1] == 0:\n            display(Markdown(\"❌ No eigenvectors found.\"))\n        else:\n            for i, v in enumerate(N.T):\n                display(Markdown(f\"\\\\( v_{{{i+1}}} = \" + np.array2string(v, precision=3, separator=', ') + \" \\\\)\"))\n\n        A2 = (A + np.eye(3)) @ (A + np.eye(3))\n        N2 = null_space(A2)\n        display(Markdown(\"### Step 2: Null space of \\\\( (A + I)^2 \\\\) (Generalized vectors):\"))\n        for i, v in enumerate(N2.T):\n            display(Markdown(f\"\\\\( g_{{{i+1}}} = \" + np.array2string(v, precision=3, separator=', ') + \" \\\\)\"))\n\n        A3 = A2 @ (A + np.eye(3))\n        N3 = null_space(A3)\n        display(Markdown(\"### Step 3: Null space of \\\\( (A + I)^3 \\\\):\"))\n        for i, v in enumerate(N3.T):\n            display(Markdown(f\"\\\\( h_{{{i+1}}} = \" + np.array2string(v, precision=3, separator=', ') + \" \\\\)\"))\n\n        display(Markdown(\"### Example Solution (using Jordan chain structure)\"))\n        plot_solution(R, L, C)\n\n# Plot time response of solution using Jordan chain\ndef plot_solution(R, L, C):\n    t = np.linspace(0, 5, 200)\n    lam = -R / L\n    x1 = np.exp(lam * t)\n    x2 = t * np.exp(lam * t)\n    x3 = (t**2 / 2) * np.exp(lam * t)\n\n    plt.figure(figsize=(8, 4))\n    plt.plot(t, x1, label=rf\"$x_1(t) = e^{{{lam}t}}$\")\n    plt.plot(t, x2, label=rf\"$x_2(t) = t e^{{{lam}t}}$\")\n    plt.plot(t, x3, label=rf\"$x_3(t) = \\frac{{t^2}}{{2}} e^{{{lam}t}}$\")\n    plt.title(\"Time-domain\")\n    plt.xlabel(\"Time $t$\")\n    plt.grid(True)\n    plt.legend()\n    plt.show()\n\ninput_R = widgets.FloatText(value=1.0, min=0.1, max=5.0, step=0.1, description=\"R (Ω):\")\ninput_L = widgets.FloatText(value=1.0, min=0.1, max=5.0, step=0.1, description=\"L (H):\")\ninput_C = widgets.FloatText(value=1.0, min=0.1, max=5.0, step=0.1, description=\"C (F):\")\nbutton = widgets.Button(description=\"Analyze RLC System\")\nbutton.on_click(lambda b: analyze_matrix(input_R.value, input_L.value, input_C.value))\n\ndisplay(Markdown(\"## 🔧 Explore the RLC System\"))\ndisplay(Markdown(\"Type in the box to change resistance (R), inductance (L), and capacitance (C), and observe how the system's behavior changes.\"))\ndisplay(widgets.HBox([input_R, input_L, input_C]), button, output)",
      "metadata": {
        "trusted": true
      },
      "outputs": [
        {
          "output_type": "display_data",
          "data": {
            "text/plain": "<IPython.core.display.Markdown object>",
            "text/markdown": "## 🔧 Explore the RLC System"
          },
          "metadata": {}
        },
        {
          "output_type": "display_data",
          "data": {
            "text/plain": "<IPython.core.display.Markdown object>",
            "text/markdown": "Type in the box to change resistance (R), inductance (L), and capacitance (C), and observe how the system's behavior changes."
          },
          "metadata": {}
        },
        {
          "output_type": "display_data",
          "data": {
            "text/plain": "HBox(children=(FloatText(value=1.0, description='R (Ω):', step=0.1), FloatText(value=1.0, description='L (H):'…",
            "application/vnd.jupyter.widget-view+json": {
              "version_major": 2,
              "version_minor": 0,
              "model_id": "cfcfdc37d2574b11b25dbe2f1faf6dba"
            }
          },
          "metadata": {}
        },
        {
          "output_type": "display_data",
          "data": {
            "text/plain": "Button(description='Analyze RLC System', style=ButtonStyle())",
            "application/vnd.jupyter.widget-view+json": {
              "version_major": 2,
              "version_minor": 0,
              "model_id": "0bcf435382fa450798ca66bc4cbabd20"
            }
          },
          "metadata": {}
        },
        {
          "output_type": "display_data",
          "data": {
            "text/plain": "Output()",
            "application/vnd.jupyter.widget-view+json": {
              "version_major": 2,
              "version_minor": 0,
              "model_id": "1752a7b72f3e429e90c30c70d96deb1c"
            }
          },
          "metadata": {}
        }
      ],
      "execution_count": 8
    },
    {
      "id": "e2aedf10-dc75-40b5-b8a1-7ed227c1bfe6",
      "cell_type": "code",
      "source": "",
      "metadata": {
        "trusted": true
      },
      "outputs": [],
      "execution_count": null
    }
  ]
}