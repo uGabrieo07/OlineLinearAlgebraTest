{
 "cells": [
  {
   "cell_type": "markdown",
   "id": "fe04d03e-1b73-4922-9e7b-9cc057ed1215",
   "metadata": {},
   "source": [
    "# Matrices and Linear Transformations\n",
    "\n",
    "Now that we have vector spaces well covered, we shall learn how to map\n",
    "elements from one vector space to other. Given two vector spaces\n",
    "$\\mathcal{U}$ and $\\mathcal{W}$ defined over some field $\\mathbb{F}$, we\n",
    "define a *linear transformation*\n",
    "$\\mathbf{A}:\\mathcal{U}\\rightarrow\\mathcal{W}$ as an application that\n",
    "associates every vector $\\mathbf{u}\\in\\mathcal{U}$ to a vector\n",
    "$\\mathbf{A}(\\mathbf{u})\\in\\mathcal{W}$ such that the following relations\n",
    "are satisfied for every $\\mathbf{u},\\ \\mathbf{v}\\in\\mathcal{U}$ and\n",
    "$x\\in\\mathbb{F}$: $$\\begin{split}\n",
    "&\\mathbf{A}(\\mathbf{u}+\\mathbf{v})=\\mathbf{A}(\\mathbf{u})+\\mathbf{A}(\\mathbf{v})\\\\%\n",
    "&\\mathbf{A}(x\\mathbf{u})=x\\mathbf{A}(\\mathbf{u})%\n",
    "\\end{split}$$ We will refer to *linear operator* when the linear\n",
    "transformation maps a given vector space into itself, e.g.,\n",
    "$\\mathbf{A}:\\mathcal{U}\\rightarrow\\mathcal{U}$. In this particular case,\n",
    "we will say that $\\mathbf{A}$ is a linear operator in $\\mathcal{U}$. We\n",
    "may also have a composition of linear transformations. As an example,\n",
    "consider $\\mathbf{A}:\\mathcal{U}\\rightarrow\\mathcal{V}$ and\n",
    "$\\mathbf{B}:\\mathcal{V}\\rightarrow\\mathcal{W}$. The *composite* function\n",
    "$\\mathbf{B}\\circ\\mathbf{A}:\\mathcal{U}\\rightarrow\\mathcal{W}$ is also a\n",
    "linear transformation:\n",
    "$$\\mathbf{w}=\\mathbf{B}\\circ\\mathbf{A}(\\mathbf{u})=\\mathbf{B}(\\mathbf{A}(\\mathbf{u})), \\quad \\mathbf{u}\\in\\mathcal{U}$$\n",
    "\n",
    "A complete definition of a linear transformation must contain a\n",
    "description of the spaces where the transformation is acting, and also\n",
    "the bases used for each space. However, most\n",
    "of the time we will employ the canonical basis of $\\mathbb{R}^n$ to represent\n",
    "vectors in linear spaces. For this reason, unless otherwise stated, we shall waive\n",
    "to mention the bases explicitly and assume that a linear transformation\n",
    "$\\mathbf{A}:\\mathcal{U}\\rightarrow\\mathcal{V}$ operates on elements of\n",
    "$\\mathcal{U}$, represented as\n",
    "$$\\mathbf{u}=\\left[\\begin{matrix}u_1&u_2&\\cdots&u_n\\end{matrix}\\right]^{\\rm T}=\\sum_{i=1}^nu_i\\mathbf{e}_i$$\n",
    "producing an element of $\\mathcal{V}$, represented as\n",
    "$$\\mathbf{v}=\\left[\\begin{matrix}v_1&v_2&\\cdots&v_n\\end{matrix}\\right]^{\\rm T}=\\sum_{i=1}^nv_i\\mathbf{e}_i$$\n",
    "where $\\mathbf{e}_i$ denotes a vector with the appropriate number of\n",
    "elements, all of them equal to zero except the $i$th element, which is\n",
    "equal to one.\n",
    "\n",
    "## Range of a Linear Transformation\n",
    "\n",
    "We call *range* (or *image*), $\\mathcal{R}$, the set of all possible\n",
    "outcomes of the linear transformation\n",
    "$\\mathbf{A}:\\mathcal{U}\\rightarrow\\mathcal{W}$, i.e., the results\n",
    "$\\mathbf{A}\\mathbf{u}$ for all possible choices of\n",
    "$\\mathbf{u}\\in\\mathcal{U}$. The vector space $\\mathcal{U}$ is the domain\n",
    "of the linear transformation and $\\mathcal{R}\\subseteq\\mathcal{W}$. For\n",
    "$\\mathbf{A}:\\mathcal{U}\\rightarrow\\mathcal{W}$\n",
    "$$\\mathcal{R}(\\mathbf{A})=\\{\\mathbf{A}\\mathbf{u}:\\mathbf{u}\\in\\mathcal{U}\\}$$\n",
    "\n",
    "If we employ the notation given in\n",
    "Equation (<a href=\"#eq:vector\" data-reference-type=\"ref\"\n",
    "data-reference=\"eq:vector\">[eq:vector]</a>), we may nicely represent\n",
    "linear transformations with the aid of matrices. Let\n",
    "$\\mathbf{A}:\\mathcal{U}\\rightarrow\\mathcal{W}$, let the elements of\n",
    "$\\mathcal{U}$ be represented as $n$-tuples, and let the elements of\n",
    "$\\mathcal{W}$ be represented as $m$-tuples, all defined over some field\n",
    "$\\mathbb{F}$. The linear transformation $\\mathbf{A}$ is induced by some\n",
    "matrix represented as an arrangement of terms consisting of $m$ rows and\n",
    "$n$ columns: [1] $$\\mathbf{A}=\\left[\\begin{matrix}\n",
    "a_{11} & a_{12} & \\cdots & a_{1n}\\\\\n",
    "a_{21} & a_{22} & \\cdots & a_{2n}\\\\\n",
    "\\vdots & \\vdots & \\ddots & \\vdots\\\\\n",
    "a_{m1} & a_{m2} & \\cdots & a_{mn}\n",
    "\\end{matrix}\\right]$$ Using this notation, we may nicely write the\n",
    "result of the application of a linear transformation\n",
    "$\\mathbf{A}:\\mathcal{U}\\rightarrow\\mathcal{W}$,\n",
    "$\\mathbf{A}(\\mathbf{u})$, as the multiplication $\\mathbf{A}\\mathbf{u}$,\n",
    "i.e.,\n",
    "$$\\mathbf{w}=\\mathbf{A}(\\mathbf{u})\\Leftrightarrow\\mathbf{w}=\\mathbf{A}\\mathbf{u}$$\n",
    "We have deliberately chosen to represent linear transformations and the\n",
    "matrices that induce them with bold capital letters. The intention is to\n",
    "convey the idea that within the scope of the book linear transformations\n",
    "applied to linear vector spaces can always be induced by matrices, and\n",
    "vice-versa.\n",
    "\n",
    "When we write $\\mathbf{v}=\\mathbf{A}\\mathbf{u}$, we may see\n",
    "$\\mathbf{v}\\in\\mathcal{R}(\\mathbf{A})$ as the vector formed by the\n",
    "linear combination of the columns of matrix $\\mathbf{A}$. Indeed, if\n",
    "$\\mathbf{u}$ is represented by an $n$-tuple of elements\n",
    "$u_i\\in\\mathbb{F}$ and the columns of $\\mathbf{A}$ are denoted by\n",
    "$\\mathbf{a}_i$, $i=1,\\\n",
    "\\ldots,\\ n$, then $$\\mathbf{v}=\\sum_{i=1}^nu_i\\mathbf{a}_i$$ The set\n",
    "$\\mathcal{R}(\\mathbf{A})$ is formed by all possible linear combinations\n",
    "of the columns of matrix $\\mathbf{A}$. For this reason, the\n",
    "range of $\\mathbf{A}:\\mathcal{U}\\rightarrow\\mathcal{W}$ is called the\n",
    "*column space* of the matrix $\\mathbf{A}$ which induces the linear\n",
    "transformation.\n",
    "\n",
    "[1] The word *matrix* was likely first used by J. J. Sylvester in\n",
    "1850 \\[@Sylv1850\\]\\[@Sylv1904\\] and further developed by A. Cayley (see,\n",
    "e.g., \\[@Cayl1855\\]–\\[@Cayl1866\\])."
   ]
  },
  {
   "cell_type": "markdown",
   "id": "56ccb7b6",
   "metadata": {},
   "source": [
    "#### Examples and applications\n",
    "\n",
    "Linear transformations are simplest mappings between two vector spaces. As a result, there is a complete mathematical theory of linear transformation and their properties. In addition, every nonlinear transformation can be approximated locally by a linear transformation. These two facts explain the great usefulness of linear transformations in a variety of applications."
   ]
  },
  {
   "cell_type": "markdown",
   "id": "f7b7e62b",
   "metadata": {},
   "source": [
    "It is easier to visualize the range (or image) of a linear transformation in a geometrical context. Suppose the following example: \n",
    "\n",
    "$$\\begin{bmatrix}\n",
    "1 & 2\\\\\n",
    "2 & 4\\\\\n",
    "\\end{bmatrix}\n",
    "\\times\n",
    "\\begin{bmatrix}\n",
    "x\\\\\n",
    "y\\\\\n",
    "\\end{bmatrix}\n",
    "=\n",
    "\\begin{bmatrix}\n",
    "2x+y\\\\\n",
    "4x+2y\\\\\n",
    "\\end{bmatrix}\n",
    "$$\n",
    "\n",
    "In this example, we can see that the range of this linear transformation is such that the the second coordinate is twice the first one. This happens because the image is a linear combination of the columns. In this example, this matrices' columns second coordinates are twice the first ones. It is logical to think that a linear combination of such vectors will preserve such characteristic. \n",
    "\n",
    "You can interact with the plot below, by changing the value of the coordinates directly in the code cell, altering the variables xcoord and ycoord, and then reexecuting this cell only."
   ]
  },
  {
   "cell_type": "code",
   "execution_count": 1,
   "id": "19abe638",
   "metadata": {},
   "outputs": [],
   "source": [
    "import numpy as np\n",
    "from PIL import Image as im\n",
    "from matplotlib import pyplot as plt"
   ]
  },
  {
   "cell_type": "code",
   "execution_count": 2,
   "id": "43b5a246",
   "metadata": {},
   "outputs": [
    {
     "data": {
      "text/plain": [
       "<matplotlib.legend.Legend at 0x20390de99d0>"
      ]
     },
     "execution_count": 2,
     "metadata": {},
     "output_type": "execute_result"
    },
    {
     "data": {
      "image/png": "[encoded data removed]",
      "text/plain": [
       "<Figure size 640x480 with 1 Axes>"
      ]
     },
     "metadata": {},
     "output_type": "display_data"
    }
   ],
   "source": [
    "xcoord = 1\n",
    "ycoord = 1\n",
    "vector = np.array([xcoord, ycoord])\n",
    "smatrix = np.array([[2, 1], [4, 2]])\n",
    "resultVect = np.dot(smatrix, vector)\n",
    "fig, ax = plt.subplots()\n",
    "ax.arrow(0, 0, xcoord, ycoord, width = 0.01, color = 'red', length_includes_head = True, head_width = 0.03)\n",
    "ax.arrow(0, 0, resultVect[0], resultVect[1], width = 0.01, color = 'black', length_includes_head = True, head_width = 0.03)\n",
    "ax.grid()\n",
    "plt.legend([\"red is the input\", \"black is the image\"],bbox_to_anchor=(0.75, 1.15), ncol=2)"
   ]
  },
  {
   "cell_type": "markdown",
   "id": "925ca4e4",
   "metadata": {},
   "source": [
    "Below, we give a very simple example of the hugely popular \"filters\" used to modify photographs posted on social media. We can think of these filters as transformations applied to images, noting that the most frequently used ones that \"morph\" or distort the image to produce comic effects are nonlinear (can you say why this is the case?)"
   ]
  },
  {
   "cell_type": "code",
   "execution_count": 3,
   "id": "bd759ba5",
   "metadata": {},
   "outputs": [
    {
     "data": {
      "text/plain": [
       "<matplotlib.image.AxesImage at 0x2038ea98250>"
      ]
     },
     "execution_count": 3,
     "metadata": {},
     "output_type": "execute_result"
    },
    {
     "data": {
      "image/png": "[encoded data removed]",
      "text/plain": [
       "<Figure size 640x480 with 1 Axes>"
      ]
     },
     "metadata": {},
     "output_type": "display_data"
    }
   ],
   "source": [
    "arrayWhite = np.full((7,7), 255)\n",
    "arrayWhite[0]=0\n",
    "arrayWhite[6]=0\n",
    "for i in range(7):\n",
    "    arrayWhite[i][0] = 0\n",
    "    arrayWhite[i][6] = 0\n",
    "imgWhite = im.fromarray(arrayWhite)\n",
    "imgWhite = imgWhite.convert('RGB')\n",
    "plt.axis('off')\n",
    "plt.imshow(imgWhite, cmap='gray')"
   ]
  },
  {
   "cell_type": "markdown",
   "id": "f39f2e05",
   "metadata": {},
   "source": [
    "In the example above we generated a simple white \"canvas\", with a black frame. This matrix has the form:\n",
    "\n",
    "$$\\begin{bmatrix}\n",
    "0 & 0 & 0 & 0 & 0 & 0 & 0\\\\\n",
    "0 & 255 & 255 & 255 & 255 & 255 & 0\\\\\n",
    "0 & 255 & 255 & 255 & 255 & 255 & 0\\\\\n",
    "0 & 255 & 255 & 255 & 255 & 255 & 0\\\\\n",
    "0 & 255 & 255 & 255 & 255 & 255 & 0\\\\\n",
    "0 & 255 & 255 & 255 & 255 & 255 & 0\\\\\n",
    "0 & 0 & 0 & 0 & 0 & 0 & 0\\\\\n",
    "\\end{bmatrix}$$\n",
    "\n",
    "We already know that, in the RGB vector space, 0 represents black and 255 represents the brightest shade in each respective color component. Therefore, pure white is the sum of the brightest shades in all of the color components. "
   ]
  },
  {
   "cell_type": "markdown",
   "id": "da52633b",
   "metadata": {},
   "source": [
    "The filter we will apply will create a gradient, from the lightest color to a darker color. This filter is matrix with which, after multiplying the photo we wish to modify from the left, creates a decrescent order of numbers. The mathematical procedure used to calculate this matrix is somewhat out of the scope of linear algebra, although it is an intereting application of number theory and group theory. The matrix used is the following: \n",
    "\n",
    "$$\\begin{bmatrix}\n",
    "0 & 0 & 0 & 0 & 0 & 0 & 0\\\\\n",
    "0 & 1 & 0 & 0 & 0 & 0 & 0\\\\\n",
    "0 & 17 & 17 & 17 & 17 & 17 & 0\\\\\n",
    "0 & 23 & 23 & 23 & 23 & 23 & 0\\\\\n",
    "0 & 37 & 37 & 37 & 37 & 37 & 0\\\\\n",
    "0 & 43 & 43 & 43 & 43 & 43 & 0\\\\\n",
    "0 & 0 & 0 & 0 & 0 & 0 & 0\\\\\n",
    "\\end{bmatrix}$$\n",
    "\n",
    "Can you understand why the second row has this specific format? "
   ]
  },
  {
   "cell_type": "code",
   "execution_count": 5,
   "id": "8da9fc67",
   "metadata": {},
   "outputs": [],
   "source": [
    "firstRow = np.full((1,7), 0)\n",
    "secondRow = np.full((1,7), 0)\n",
    "secondRow[0][1] = 1\n",
    "thirdRow = np.full((1,7), 17)\n",
    "fourthRow = np.full((1,7), 23)\n",
    "fifthRow = np.full((1,7), 37)\n",
    "sixthRow = np.full((1,7), 43)\n",
    "seventhRow = np.full((1,7), 0)\n",
    "lt = np.vstack((firstRow, secondRow, thirdRow, fourthRow, fifthRow, sixthRow, seventhRow))"
   ]
  },
  {
   "cell_type": "code",
   "execution_count": 6,
   "id": "9f5db593",
   "metadata": {},
   "outputs": [],
   "source": [
    "def filter(photo):\n",
    "    resultReal = np.dot(lt, photo)\n",
    "    result = resultReal%256\n",
    "    return result"
   ]
  },
  {
   "cell_type": "code",
   "execution_count": 12,
   "id": "47827f42",
   "metadata": {},
   "outputs": [
    {
     "data": {
      "text/plain": [
       "<matplotlib.image.AxesImage at 0x2039172d400>"
      ]
     },
     "execution_count": 12,
     "metadata": {},
     "output_type": "execute_result"
    },
    {
     "data": {
      "image/png": "[encoded data removed]",
      "text/plain": [
       "<Figure size 640x480 with 1 Axes>"
      ]
     },
     "metadata": {},
     "output_type": "display_data"
    }
   ],
   "source": [
    "result = filter(arrayWhite)\n",
    "plt.axis('off')\n",
    "plt.imshow(result, cmap='gray')"
   ]
  },
  {
   "cell_type": "markdown",
   "id": "bf194c59",
   "metadata": {},
   "source": [
    "Above, we can see the filtered image. Since this filter is a linear transformation, if we attempt to apply this filter to each one of the color components and then add the results, we will obtain the same resulting image as we obtain by transforming the sum of the components."
   ]
  },
  {
   "cell_type": "code",
   "execution_count": 8,
   "id": "6bc94154",
   "metadata": {},
   "outputs": [],
   "source": [
    "arrayWhite = np.array(imgWhite)\n",
    "\n",
    "arrayWhiteR = np.copy(arrayWhite)\n",
    "arrayWhiteG = np.copy(arrayWhite)\n",
    "arrayWhiteB = np.copy(arrayWhite)\n",
    "\n",
    "for colunaIndice in range(arrayWhite.shape[0]):\n",
    "    coluna = arrayWhite[colunaIndice]\n",
    "    for pixelIndice in range(coluna.shape[0]):\n",
    "        arrayWhiteR[colunaIndice][pixelIndice][1] = 0\n",
    "        arrayWhiteR[colunaIndice][pixelIndice][2] = 0\n",
    "        arrayWhiteG[colunaIndice][pixelIndice][0] = 0\n",
    "        arrayWhiteG[colunaIndice][pixelIndice][2] = 0\n",
    "        arrayWhiteB[colunaIndice][pixelIndice][0] = 0\n",
    "        arrayWhiteB[colunaIndice][pixelIndice][1] = 0"
   ]
  },
  {
   "cell_type": "code",
   "execution_count": 9,
   "id": "3a5b6804",
   "metadata": {},
   "outputs": [
    {
     "data": {
      "text/plain": [
       "(-0.5, 6.5, 6.5, -0.5)"
      ]
     },
     "execution_count": 9,
     "metadata": {},
     "output_type": "execute_result"
    },
    {
     "data": {
      "image/png": "[encoded data removed]",
      "text/plain": [
       "<Figure size 640x480 with 3 Axes>"
      ]
     },
     "metadata": {},
     "output_type": "display_data"
    }
   ],
   "source": [
    "filteredRed = filter(arrayWhiteR)\n",
    "plt.subplot(1,3,1)\n",
    "plt.imshow(filteredRed, cmap='gray')\n",
    "plt.axis('off')\n",
    "filteredGreen = filter(arrayWhiteG)\n",
    "plt.subplot(1,3,2)\n",
    "plt.imshow(filteredGreen, cmap='gray')\n",
    "plt.axis('off')\n",
    "filteredBlue = filter(arrayWhiteB)\n",
    "plt.subplot(1,3,3)\n",
    "plt.imshow(filteredBlue, cmap='gray')\n",
    "plt.axis('off')"
   ]
  },
  {
   "cell_type": "code",
   "execution_count": 10,
   "id": "e84df186",
   "metadata": {},
   "outputs": [
    {
     "data": {
      "text/plain": [
       "<matplotlib.image.AxesImage at 0x20391569670>"
      ]
     },
     "execution_count": 10,
     "metadata": {},
     "output_type": "execute_result"
    },
    {
     "data": {
      "image/png": "[encoded data removed]",
      "text/plain": [
       "<Figure size 640x480 with 1 Axes>"
      ]
     },
     "metadata": {},
     "output_type": "display_data"
    }
   ],
   "source": [
    "finalResult = filteredRed + filteredGreen + filteredBlue\n",
    "plt.axis('off')\n",
    "plt.imshow(finalResult, cmap='gray')"
   ]
  },
  {
   "cell_type": "markdown",
   "id": "a67d7313",
   "metadata": {},
   "source": [
    "Notice that, regardless of what values are inserted to construct the red vector, the resulting image will always be along the line $y = 2x$. This column space differs from the codomain. The codomain, being a plane, has dimension = 2, but this columns space, being a line, has dimension = 1. This shows that this linear transformation is not a surjective function."
   ]
  },
  {
   "cell_type": "code",
   "execution_count": null,
   "id": "d92d1aa6",
   "metadata": {},
   "outputs": [],
   "source": []
  }
 ],
 "metadata": {
  "kernelspec": {
   "display_name": "Python 3 (ipykernel)",
   "language": "python",
   "name": "python3"
  },
  "language_info": {
   "codemirror_mode": {
    "name": "ipython",
    "version": 3
   },
   "file_extension": ".py",
   "mimetype": "text/x-python",
   "name": "python",
   "nbconvert_exporter": "python",
   "pygments_lexer": "ipython3",
   "version": "3.9.16"
  }
 },
 "nbformat": 4,
 "nbformat_minor": 5
}
