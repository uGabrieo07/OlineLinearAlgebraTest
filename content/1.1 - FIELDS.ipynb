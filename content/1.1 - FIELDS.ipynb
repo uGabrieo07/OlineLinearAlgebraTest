{
 "cells": [
  {
   "cell_type": "markdown",
   "id": "5c23c6a8",
   "metadata": {},
   "source": [
    "## Fields\n",
    "\n",
    "<span id=\"sec:fields\" label=\"sec:fields\"></span> As a starting point,\n",
    "let us define a set of elements that will be our basic building blocks.\n",
    "We are particularly interested in sets whose elements can be added and\n",
    "multiplied, and satisfy some conditions related to these two operations.\n",
    "Let us call this set a *field*, and the conditions associated with the\n",
    "operations of addition and multiplication we will call *field axioms*.\n",
    "Therefore, given a field $\\mathbb{F}$ and any two elements of this\n",
    "field, say $x,\\ y\\in\\mathbb{F}$, we shall guarantee that\n",
    "$x+y\\in\\mathbb{F}$ and $xy\\in\\mathbb{F}$. The field axioms associated\n",
    "with addition are:\n",
    "\n",
    "-   Associativity: For any elements $x,\\ y,\\ z\\in\\mathbb{F}$,\n",
    "    $(x+y)+z=x+(y+z)$.\n",
    "\n",
    "-   Commutativity: For any elements $x,\\ y\\in\\mathbb{F}$, $x+y=y+x$.\n",
    "\n",
    "-   Identity: $\\exists 0\\in\\mathbb{F}$ such that $0+x=x$ for any element\n",
    "    $x\\in\\mathbb{F}$..\n",
    "\n",
    "-   Inverse: Any element $x\\in\\mathbb{F}$ has a symmetric $-x$ such that\n",
    "    $x+(-x)=0$.\n",
    "\n",
    "The field axioms associated with multiplication are:\n",
    "\n",
    "-   Associativity: For any elements $x,\\ y,\\ z\\in\\mathbb{F}$,\n",
    "    $(xy)z=x(yz)$.\n",
    "\n",
    "-   Commutativity: For any elements $x,\\ y\\in\\mathbb{F}$, $xy=yx$.\n",
    "\n",
    "-   Identity: $\\exists 1\\in\\mathbb{F}$ such that $1x=x$ for any element\n",
    "    $x\\in\\mathbb{F}$.\n",
    "\n",
    "-   Inverse: Any element $x\\neq0$, $x\\in\\mathbb{F}$, has an inverse\n",
    "    $x^{-1}$ such that $xx^{-1}=1$.\n",
    "\n",
    "The operations addition and multiplication in a field also relate by\n",
    "means of an axiom:\n",
    "\n",
    "-   Distributivity: For any elements $x,\\ y,\\ z\\in\\mathbb{F}$,\n",
    "    $x(y+z)=xy+xz$.\n",
    "\n",
    "We may think of different examples of fields, dense or sparse, ordered\n",
    "or not, with infinite or finite number of elements. The reader is\n",
    "invited to test the fields provided in the following examples and verify\n",
    "if they satisfy the addition and multiplication conditions as well as\n",
    "the field axioms.\n",
    "\n",
    "We will start with one particular field which will be of great interest\n",
    "to us throughout the book, the *field of real numbers*, denoted by\n",
    "$\\mathbb{R}$. This is an example of an ordered and dense field with\n",
    "infinite number of elements.\n",
    "\n",
    "Another example of field that will play an important role, albeit more\n",
    "towards the end of the book, is the *field of complex numbers*, denoted\n",
    "by $\\mathbb{C}$. Although dense and also with an infinite number of\n",
    "elements, $\\mathbb{C}$ is not an ordered field.\n",
    "\n",
    "As a last example, let us consider a field with a finite number of\n",
    "elements, or finite field order. These fields are often called *Galois\n",
    "fields*, honoring the French mathematician Évariste Galois (1811–1832),\n",
    "and denoted GF($p$). The field order of a Galois field is always prime,\n",
    "or the power of a prime number \\[@Birk1977\\], therefore let us examine\n",
    "the cases GF($2$)=$\\{0,\\ 1\\}$ and\n",
    "GF($7$)=$\\{0,\\ 1,\\ 2,\\ 3,\\ 4,\\ 5,\\ 6\\}$. The operations of addition and\n",
    "multiplication are given below. The reader is invited to check that the\n",
    "field axioms hold for both cases, whereas they break if we try to build\n",
    "similar tables for fields with 6 elements, for example.\n",
    "\n",
    "<p style=\"text-align: center;\">Addition and Multiplication Opperations in GF($2$)</p>\n",
    "\n",
    "| \\+  |  0  |   1 |\n",
    "|-----|:---:|----:|\n",
    "| 0   |  0  |   1 |\n",
    "| 1   |  1  |   0 |\n",
    "\n",
    "\n",
    "|    ×     |  0  |  1  |\n",
    "|:--------:|:---:|:---:|\n",
    "|    0     |  0  |  0  |\n",
    "|    1     |  0  |  1  |\n",
    "\n",
    "\n",
    "<p style=\"text-align: center;\">Addition and Multiplication Opperations in GF($7$)</p>\n",
    "\n",
    "| \\+  |  0  |  1  |  2  |  3  |  4  |  5  |  6  |\n",
    "|:---:|:---:|:---:|:---:|:---:|:---:|:---:|:---:|\n",
    "|  0  |  0  |  1  |  2  |  3  |  4  |  5  |  6  |\n",
    "|  1  |  1  |  2  |  3  |  4  |  5  |  6  |  0  |\n",
    "|  2  |  2  |  3  |  4  |  5  |  6  |  0  |  1  |\n",
    "|  3  |  3  |  4  |  5  |  6  |  0  |  1  |  2  |\n",
    "|  4  |  4  |  5  |  6  |  0  |  1  |  2  |  3  |\n",
    "|  5  |  5  |  6  |  0  |  1  |  2  |  3  |  4  |\n",
    "|  6  |  6  |  0  |  1  |  2  |  3  |  4  |  5  |\n",
    "\n",
    "\n",
    "|    ×     |  0  |  1  |  2  |  3  |  4  |  5  |  6  |\n",
    "|:--------:|:---:|:---:|:---:|:---:|:---:|:---:|:---:|\n",
    "|    0     |  0  |  0  |  0  |  0  |  0  |  0  |  0  |\n",
    "|    1     |  0  |  1  |  2  |  3  |  4  |  5  |  6  |\n",
    "|    2     |  0  |  2  |  4  |  6  |  1  |  3  |  5  |\n",
    "|    3     |  0  |  3  |  6  |  2  |  5  |  1  |  4  |\n",
    "|    4     |  0  |  4  |  1  |  5  |  2  |  6  |  3  |\n",
    "|    5     |  0  |  5  |  3  |  1  |  6  |  4  |  2  |\n",
    "|    6     |  0  |  6  |  5  |  4  |  3  |  2  |  1  |\n",
    "\n",
    "\n",
    "Not all cases are as trivially described as GF($2$) and GF($7$). For\n",
    "example, GF($4$) can be constructed as follows:\n",
    "\n",
    "<p style=\"text-align: center;\">Addition and Multiplication Opperations in GF($4$)</p>\n",
    "\n",
    "| \\+  |  0  |  1  |  2  |  3  |\n",
    "|:---:|:---:|:---:|:---:|:---:|\n",
    "|  0  |  0  |  1  |  2  |  3  |\n",
    "|  1  |  1  |  0  |  3  |  2  |\n",
    "|  2  |  2  |  3  |  0  |  1  |\n",
    "|  3  |  3  |  2  |  1  |  0  |\n",
    "\n",
    "\n",
    "|    ×     |  0  |  1  |  2  |  3  |\n",
    "|:--------:|:---:|:---:|:---:|:---:|\n",
    "|    0     |  0  |  0  |  0  |  0  |\n",
    "|    1     |  0  |  1  |  2  |  3  |\n",
    "|    2     |  0  |  2  |  3  |  1  |\n",
    "|    3     |  0  |  3  |  1  |  2  |\n"
   ]
  },
  {
   "cell_type": "markdown",
   "id": "5bfd3f7b",
   "metadata": {},
   "source": [
    "### Examples and exercises:\n",
    "\n",
    "   In the context of wide sense information technology, it is very important to clearly define the field you are working with, given that, depending on the field, the methods used to process such information differ. This is made visually understandable in the context of image processing: \n",
    "\n",
    "   In image processing, images are represented as vectorial structures called matrices. Generally speaking, a matrix is a table of numbers. Matrices can be used to represent many different mathematical objects and operations, and, thus, its elements can represent different types of information. In the context of image processing, the elements of a matrix that represents an image represent a pixel. Its numerical value represent the color of such pixel. \n",
    "   \n",
    "   Therefore, the amount of colors we seek to represent depends on the field with which the image's matrix is constructed. \n",
    "   \n",
    "   So, for a black and white image, it would be necessary to only use to numbers: a very important use of GF(2)\n",
    "   \n",
    "   The matrix below represents an image:\n",
    "   <table>\n",
    "<tbody>\n",
    "<tr><td>1</td><td>1</td><td><span style=\"color:red\">0</span></td><td>1</td><td>1</td></tr>\n",
    "<tr><td>1</td><td><span style=\"color:red\">0</td><td><span style=\"color:red\">0</td><td><span style=\"color:red\">0</span></td><td>1</td></tr>\n",
    "<tr><td><span style=\"color:red\">0</span></td><td>1</td><td><span style=\"color:red\">0</span></td><td>1</td><td><span style=\"color:red\">0</span></td></tr>\n",
    "<tr><td>1</td><td>1</td><td><span style=\"color:red\">0</span></td><td>1</td><td>1</td></tr>\n",
    "<tr><td>1</td><td>1</td><td><span style=\"color:red\">0</span></td><td>1</td><td>1</td></tr>\n",
    "</tbody>\n",
    "</table>\n",
    "    \n",
    "We might assign color white to the pixels with value `1` and color black to those with value `0`. The table above would, therefore, be associated with a black and white arrow pointing up. Please don't pay attention to the code, focus rather on the image.</br>"
   ]
  },
  {
   "cell_type": "code",
   "execution_count": 1,
   "id": "854beeb6",
   "metadata": {},
   "outputs": [],
   "source": [
    "import matplotlib\n",
    "from matplotlib import pyplot as plt\n",
    "import numpy as np\n",
    "import PIL \n",
    "from PIL import Image as im"
   ]
  },
  {
   "cell_type": "code",
   "execution_count": 2,
   "id": "ba0fc475",
   "metadata": {},
   "outputs": [
    {
     "data": {
      "text/plain": [
       "<matplotlib.image.AxesImage at 0x1ee813e27f0>"
      ]
     },
     "execution_count": 2,
     "metadata": {},
     "output_type": "execute_result"
    },
    {
     "data": {
      "image/png": "[encoded data removed]",
      "text/plain": [
       "<Figure size 640x480 with 1 Axes>"
      ]
     },
     "metadata": {},
     "output_type": "display_data"
    }
   ],
   "source": [
    "imageArray = np.array([[1, 1, 0, 1, 1], [1, 0, 0, 0, 1], [0, 1, 0, 1, 0], [1, 1, 0, 1, 1], [1, 1, 0, 1, 1]])\n",
    "image = im.fromarray(256*imageArray)\n",
    "plt.axis('off')\n",
    "plt.imshow(image)"
   ]
  },
  {
   "cell_type": "markdown",
   "id": "d06efe04",
   "metadata": {},
   "source": [
    "You might have noticed that we needed to multiply the array by 256. That is due to the standard functional of the Python image processing library. This will be detailed later on, but it is noticeable that with only two values (0 and 1) it is possible to create an image with only two colors."
   ]
  },
  {
   "cell_type": "markdown",
   "id": "5a421146",
   "metadata": {},
   "source": [
    "Exercise 1: Copy the code of the cell above that plotted the upwards arrow and paste it on the cell below. Modify the code such that plot a white upwards arrow on a black backgroud. Which field property was used?"
   ]
  },
  {
   "cell_type": "code",
   "execution_count": null,
   "id": "65082fbd",
   "metadata": {},
   "outputs": [],
   "source": []
  },
  {
   "cell_type": "markdown",
   "id": "8c162627",
   "metadata": {},
   "source": [
    "Although this scheme may suffice for simple signs and emojis, black and white is clearly not capable to render the subtleties and details of shades and texture. We want contrast and brightness, and for that we need a scale of gray, ranging from absolute darkness to maximum brightness. So, a field with only two elements is not sufficient. More numbers are necessary to represent more information.\n",
    "<table>\n",
    "<tbody>\n",
    "<tr><td>1.0</td><td>1.0</td><td><span style=\"color:#ff2c2c\">0.0</span></td><td>1.0</td><td>1.0</td></tr>\n",
    "<tr><td>1.0</td><td><span style=\"color:#ff2c2c\">0.0</td><td><span style=\"color:#e90000\">0.2</td><td><span style=\"color:#ff2c2c\">0.0</span></td><td>1.0</td></tr>\n",
    "<tr><td><span style=\"color:#ff2c2c\">0.0</span></td><td>1.0</td><td><span style=\"color:#a60000\">0.4</span></td><td>1.0</td><td><span style=\"color:#ff2c2c\">0.0</span></td></tr>\n",
    "<tr><td>1.0</td><td>1.0</td><td><span style=\"color:#850000\">0.6</span></td><td>1.0</td><td>1.0</td></tr>\n",
    "<tr><td>1.0</td><td>1.0</td><td><span style=\"color:#640000\">0.8</span></td><td>1.0</td><td>1.0</td></tr>\n",
    "</tbody>\n",
    "</table>\n",
    "The code below shows the image with shades of gray. <span>Again, do not worry about the code itself, but concentrate on the image.</span>"
   ]
  },
  {
   "cell_type": "code",
   "execution_count": 3,
   "id": "6fa93b07",
   "metadata": {},
   "outputs": [
    {
     "data": {
      "text/plain": [
       "<matplotlib.image.AxesImage at 0x1ee83c76340>"
      ]
     },
     "execution_count": 3,
     "metadata": {},
     "output_type": "execute_result"
    },
    {
     "data": {
      "image/png": "[encoded data removed]",
      "text/plain": [
       "<Figure size 640x480 with 1 Axes>"
      ]
     },
     "metadata": {},
     "output_type": "display_data"
    }
   ],
   "source": [
    "imageArray = np.array([[1.0,1.0,0.0,1.0,1.0],[1.0,0.0,0.2,0.0,1.0],[0.0,1.0,0.4,1.0,0.0],[1.0,1.0,0.6,1.0,1.0],[1.0,1.0,0.8,1.0,1.0]])\n",
    "image = im.fromarray(256*imageArray)\n",
    "plt.axis('off')\n",
    "plt.imshow(image)"
   ]
  },
  {
   "cell_type": "markdown",
   "id": "eed75393",
   "metadata": {},
   "source": [
    "Computationally, working with real numbers between 0 and 1 can be arithmetically challenging. Therefore, a standard was created such that grayscale images have integer values between 0 and 255. With such standard, one byte (a group of 8 bits) can represent 256 shades of gray. Python uses this standard, that's why it was necessary to multiply the matrices by 256. Also, these integers belong to the field $GF(256)$, or $GF(2^8)$. By Galois' theorem, it is a field, since the number of elements is the power of a prime number."
   ]
  },
  {
   "cell_type": "markdown",
   "id": "5dfc5abc",
   "metadata": {},
   "source": [
    "In order to practice your Python programming skills and to beter comprehend matricial structures, try implementing the following exercices in the cell below:</br>\n",
    "2.1 - Create and display a 20$\\times$1 grayscale image of twenty pixels where the leftmost is white and the rightmost is black.</br>\n",
    "2.2 - Extend the previous question such that the image has twenty rows of twenty pixels each, every color with the same shade of gray.</br>\n",
    "2.3 - Manipulate the image created in the previous question to obtain its mirror image. (Do not simply create an image with pixels ranging from black to white.)</br>"
   ]
  },
  {
   "cell_type": "code",
   "execution_count": null,
   "id": "70cceb3b",
   "metadata": {},
   "outputs": [],
   "source": []
  }
 ],
 "metadata": {
  "kernelspec": {
   "display_name": "Python 3 (ipykernel)",
   "language": "python",
   "name": "python3"
  },
  "language_info": {
   "codemirror_mode": {
    "name": "ipython",
    "version": 3
   },
   "file_extension": ".py",
   "mimetype": "text/x-python",
   "name": "python",
   "nbconvert_exporter": "python",
   "pygments_lexer": "ipython3",
   "version": "3.9.16"
  }
 },
 "nbformat": 4,
 "nbformat_minor": 5
}
