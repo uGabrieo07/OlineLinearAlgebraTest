{
  "metadata": {
    "kernelspec": {
      "name": "python",
      "display_name": "Python (Pyodide)",
      "language": "python"
    },
    "language_info": {
      "codemirror_mode": {
        "name": "python",
        "version": 3
      },
      "file_extension": ".py",
      "mimetype": "text/x-python",
      "name": "python",
      "nbconvert_exporter": "python",
      "pygments_lexer": "ipython3",
      "version": "3.8"
    }
  },
  "nbformat_minor": 5,
  "nbformat": 4,
  "cells": [
    {
      "id": "5c23c6a8",
      "cell_type": "markdown",
      "source": "## Fields\n\n<span id=\"sec:fields\" label=\"sec:fields\"></span> As a starting point,\nlet us define a set of elements that will be our basic building blocks.\nWe are particularly interested in sets whose elements can be added and\nmultiplied, and satisfy some conditions related to these two operations.\nLet us call this set a *field*, and the conditions associated with the\noperations of addition and multiplication we will call *field axioms*.\nTherefore, given a field $\\mathbb{F}$ and any two elements of this\nfield, say $x,\\ y\\in\\mathbb{F}$, we shall guarantee that\n$x+y\\in\\mathbb{F}$ and $xy\\in\\mathbb{F}$. The field axioms associated\nwith addition are:\n\n-   Associativity: For any elements $x,\\ y,\\ z\\in\\mathbb{F}$,\n    $(x+y)+z=x+(y+z)$.\n\n-   Commutativity: For any elements $x,\\ y\\in\\mathbb{F}$, $x+y=y+x$.\n\n-   Identity: $\\exists 0\\in\\mathbb{F}$ such that $0+x=x$ for any element\n    $x\\in\\mathbb{F}$..\n\n-   Inverse: Any element $x\\in\\mathbb{F}$ has a symmetric $-x$ such that\n    $x+(-x)=0$.\n\nThe field axioms associated with multiplication are:\n\n-   Associativity: For any elements $x,\\ y,\\ z\\in\\mathbb{F}$,\n    $(xy)z=x(yz)$.\n\n-   Commutativity: For any elements $x,\\ y\\in\\mathbb{F}$, $xy=yx$.\n\n-   Identity: $\\exists 1\\in\\mathbb{F}$ such that $1x=x$ for any element\n    $x\\in\\mathbb{F}$.\n\n-   Inverse: Any element $x\\neq0$, $x\\in\\mathbb{F}$, has an inverse\n    $x^{-1}$ such that $xx^{-1}=1$.\n\nThe operations addition and multiplication in a field also relate by\nmeans of an axiom:\n\n-   Distributivity: For any elements $x,\\ y,\\ z\\in\\mathbb{F}$,\n    $x(y+z)=xy+xz$.\n\nWe may think of different examples of fields, dense or sparse, ordered\nor not, with infinite or finite number of elements. The reader is\ninvited to test the fields provided in the following examples and verify\nif they satisfy the addition and multiplication conditions as well as\nthe field axioms.\n\nWe will start with one particular field which will be of great interest\nto us throughout the book, the *field of real numbers*, denoted by\n$\\mathbb{R}$. This is an example of an ordered and dense field with\ninfinite number of elements.\n\nAnother example of field that will play an important role, albeit more\ntowards the end of the book, is the *field of complex numbers*, denoted\nby $\\mathbb{C}$. Although dense and also with an infinite number of\nelements, $\\mathbb{C}$ is not an ordered field.\n\nAs a last example, let us consider a field with a finite number of\nelements, or finite field order. These fields are often called *Galois\nfields*, honoring the French mathematician Évariste Galois (1811–1832),\nand denoted GF($p$). The field order of a Galois field is always prime,\nor the power of a prime number \\[@Birk1977\\], therefore let us examine\nthe cases GF($2$)=$\\{0,\\ 1\\}$ and\nGF($7$)=$\\{0,\\ 1,\\ 2,\\ 3,\\ 4,\\ 5,\\ 6\\}$. The operations of addition and\nmultiplication are given below. The reader is invited to check that the\nfield axioms hold for both cases, whereas they break if we try to build\nsimilar tables for fields with 6 elements, for example.\n\n<p style=\"text-align: center;\">Addition and Multiplication Opperations in GF($2$)</p>\n\n| \\+  |  0  |   1 |\n|-----|:---:|----:|\n| 0   |  0  |   1 |\n| 1   |  1  |   0 |\n\n\n|    ×     |  0  |  1  |\n|:--------:|:---:|:---:|\n|    0     |  0  |  0  |\n|    1     |  0  |  1  |\n\n\n<p style=\"text-align: center;\">Addition and Multiplication Opperations in GF($7$)</p>\n\n| \\+  |  0  |  1  |  2  |  3  |  4  |  5  |  6  |\n|:---:|:---:|:---:|:---:|:---:|:---:|:---:|:---:|\n|  0  |  0  |  1  |  2  |  3  |  4  |  5  |  6  |\n|  1  |  1  |  2  |  3  |  4  |  5  |  6  |  0  |\n|  2  |  2  |  3  |  4  |  5  |  6  |  0  |  1  |\n|  3  |  3  |  4  |  5  |  6  |  0  |  1  |  2  |\n|  4  |  4  |  5  |  6  |  0  |  1  |  2  |  3  |\n|  5  |  5  |  6  |  0  |  1  |  2  |  3  |  4  |\n|  6  |  6  |  0  |  1  |  2  |  3  |  4  |  5  |\n\n\n|    ×     |  0  |  1  |  2  |  3  |  4  |  5  |  6  |\n|:--------:|:---:|:---:|:---:|:---:|:---:|:---:|:---:|\n|    0     |  0  |  0  |  0  |  0  |  0  |  0  |  0  |\n|    1     |  0  |  1  |  2  |  3  |  4  |  5  |  6  |\n|    2     |  0  |  2  |  4  |  6  |  1  |  3  |  5  |\n|    3     |  0  |  3  |  6  |  2  |  5  |  1  |  4  |\n|    4     |  0  |  4  |  1  |  5  |  2  |  6  |  3  |\n|    5     |  0  |  5  |  3  |  1  |  6  |  4  |  2  |\n|    6     |  0  |  6  |  5  |  4  |  3  |  2  |  1  |\n\n\nNot all cases are as trivially described as GF($2$) and GF($7$). For\nexample, GF($4$) can be constructed as follows:\n\n<p style=\"text-align: center;\">Addition and Multiplication Opperations in GF($4$)</p>\n\n| \\+  |  0  |  1  |  2  |  3  |\n|:---:|:---:|:---:|:---:|:---:|\n|  0  |  0  |  1  |  2  |  3  |\n|  1  |  1  |  0  |  3  |  2  |\n|  2  |  2  |  3  |  0  |  1  |\n|  3  |  3  |  2  |  1  |  0  |\n\n\n|    ×     |  0  |  1  |  2  |  3  |\n|:--------:|:---:|:---:|:---:|:---:|\n|    0     |  0  |  0  |  0  |  0  |\n|    1     |  0  |  1  |  2  |  3  |\n|    2     |  0  |  2  |  3  |  1  |\n|    3     |  0  |  3  |  1  |  2  |\n",
      "metadata": {}
    },
    {
      "id": "5bfd3f7b",
      "cell_type": "markdown",
      "source": "### Examples and exercises:\n\n   In the context of wide sense information technology, it is very important to clearly define the field you are working with, given that, depending on the field, the methods used to process such information differ. This is made visually understandable in the context of image processing: \n\n   In image processing, images are represented as vectorial structures called matrices. Generally speaking, a matrix is a table of numbers. Matrices can be used to represent many different mathematical objects and operations, and, thus, its elements can represent different types of information. In the context of image processing, the elements of a matrix that represents an image represent a pixel. Its numerical value represent the color of such pixel. \n   \n   Therefore, the amount of colors we seek to represent depends on the field with which the image's matrix is constructed. \n   \n   So, for a black and white image, it would be necessary to only use to numbers: a very important use of GF(2)\n   \n   The matrix below represents an image:\n   <table>\n<tbody>\n<tr><td>1</td><td>1</td><td><span style=\"color:red\">0</span></td><td>1</td><td>1</td></tr>\n<tr><td>1</td><td><span style=\"color:red\">0</td><td><span style=\"color:red\">0</td><td><span style=\"color:red\">0</span></td><td>1</td></tr>\n<tr><td><span style=\"color:red\">0</span></td><td>1</td><td><span style=\"color:red\">0</span></td><td>1</td><td><span style=\"color:red\">0</span></td></tr>\n<tr><td>1</td><td>1</td><td><span style=\"color:red\">0</span></td><td>1</td><td>1</td></tr>\n<tr><td>1</td><td>1</td><td><span style=\"color:red\">0</span></td><td>1</td><td>1</td></tr>\n</tbody>\n</table>\n    \nWe might assign color white to the pixels with value `1` and color black to those with value `0`. The table above would, therefore, be associated with a black and white arrow pointing up. Please don't pay attention to the code, focus rather on the image.</br>",
      "metadata": {}
    },
    {
      "id": "854beeb6",
      "cell_type": "code",
      "source": "import matplotlib\nfrom matplotlib import pyplot as plt\nimport numpy as np\nimport PIL \nfrom PIL import Image as im",
      "metadata": {},
      "outputs": [],
      "execution_count": 1
    },
    {
      "id": "ba0fc475",
      "cell_type": "code",
      "source": "imageArray = np.array([[1, 1, 0, 1, 1], [1, 0, 0, 0, 1], [0, 1, 0, 1, 0], [1, 1, 0, 1, 1], [1, 1, 0, 1, 1]])\nimage = im.fromarray(256*imageArray)\nplt.axis('off')\nplt.imshow(image)",
      "metadata": {},
      "outputs": [
        {
          "data": {
            "text/plain": [
              "<matplotlib.image.AxesImage at 0x1ee813e27f0>"
            ]
          },
          "execution_count": 2,
          "metadata": {},
          "output_type": "execute_result"
        },
        {
          "data": {
            "image/png": "[encoded data removed]",
            "text/plain": [
              "<Figure size 640x480 with 1 Axes>"
            ]
          },
          "metadata": {},
          "output_type": "display_data"
        }
      ],
      "execution_count": 2
    },
    {
      "id": "d06efe04",
      "cell_type": "markdown",
      "source": "You might have noticed that we needed to multiply the array by 256. That is due to the standard functional of the Python image processing library. This will be detailed later on, but it is noticeable that with only two values (0 and 1) it is possible to create an image with only two colors.",
      "metadata": {}
    },
    {
      "id": "5a421146",
      "cell_type": "markdown",
      "source": "Exercise 1: Copy the code of the cell above that plotted the upwards arrow and paste it on the cell below. Modify the code such that plot a white upwards arrow on a black backgroud. Which field property was used?",
      "metadata": {}
    },
    {
      "id": "65082fbd",
      "cell_type": "code",
      "source": "",
      "metadata": {},
      "outputs": [],
      "execution_count": null
    },
    {
      "id": "8c162627",
      "cell_type": "markdown",
      "source": "Although this scheme may suffice for simple signs and emojis, black and white is clearly not capable to render the subtleties and details of shades and texture. We want contrast and brightness, and for that we need a scale of gray, ranging from absolute darkness to maximum brightness. So, a field with only two elements is not sufficient. More numbers are necessary to represent more information.\n<table>\n<tbody>\n<tr><td>1.0</td><td>1.0</td><td><span style=\"color:#ff2c2c\">0.0</span></td><td>1.0</td><td>1.0</td></tr>\n<tr><td>1.0</td><td><span style=\"color:#ff2c2c\">0.0</td><td><span style=\"color:#e90000\">0.2</td><td><span style=\"color:#ff2c2c\">0.0</span></td><td>1.0</td></tr>\n<tr><td><span style=\"color:#ff2c2c\">0.0</span></td><td>1.0</td><td><span style=\"color:#a60000\">0.4</span></td><td>1.0</td><td><span style=\"color:#ff2c2c\">0.0</span></td></tr>\n<tr><td>1.0</td><td>1.0</td><td><span style=\"color:#850000\">0.6</span></td><td>1.0</td><td>1.0</td></tr>\n<tr><td>1.0</td><td>1.0</td><td><span style=\"color:#640000\">0.8</span></td><td>1.0</td><td>1.0</td></tr>\n</tbody>\n</table>\nThe code below shows the image with shades of gray. <span>Again, do not worry about the code itself, but concentrate on the image.</span>",
      "metadata": {}
    },
    {
      "id": "6fa93b07",
      "cell_type": "code",
      "source": "imageArray = np.array([[1.0,1.0,0.0,1.0,1.0],[1.0,0.0,0.2,0.0,1.0],[0.0,1.0,0.4,1.0,0.0],[1.0,1.0,0.6,1.0,1.0],[1.0,1.0,0.8,1.0,1.0]])\nimage = im.fromarray(256*imageArray)\nplt.axis('off')\nplt.imshow(image)",
      "metadata": {},
      "outputs": [
        {
          "data": {
            "text/plain": [
              "<matplotlib.image.AxesImage at 0x1ee83c76340>"
            ]
          },
          "execution_count": 3,
          "metadata": {},
          "output_type": "execute_result"
        },
        {
          "data": {
            "image/png": "[encoded data removed]",
            "text/plain": [
              "<Figure size 640x480 with 1 Axes>"
            ]
          },
          "metadata": {},
          "output_type": "display_data"
        }
      ],
      "execution_count": 3
    },
    {
      "id": "eed75393",
      "cell_type": "markdown",
      "source": "Computationally, working with real numbers between 0 and 1 can be arithmetically challenging. Therefore, a standard was created such that grayscale images have integer values between 0 and 255. With such standard, one byte (a group of 8 bits) can represent 256 shades of gray. Python uses this standard, that's why it was necessary to multiply the matrices by 256. Also, these integers belong to the field $GF(256)$, or $GF(2^8)$. By Galois' theorem, it is a field, since the number of elements is the power of a prime number.",
      "metadata": {}
    },
    {
      "id": "5dfc5abc",
      "cell_type": "markdown",
      "source": "In order to practice your Python programming skills and to beter comprehend matricial structures, try implementing the following exercices in the cell below:</br>\n2.1 - Create and display a 20$\\times$1 grayscale image of twenty pixels where the leftmost is white and the rightmost is black.</br>\n2.2 - Extend the previous question such that the image has twenty rows of twenty pixels each, every color with the same shade of gray.</br>\n2.3 - Manipulate the image created in the previous question to obtain its mirror image. (Do not simply create an image with pixels ranging from black to white.)</br>",
      "metadata": {}
    },
    {
      "id": "0895aa1e-6936-432d-abef-eb923cdf5b75",
      "cell_type": "markdown",
      "source": "<br>\n<p style=\"text-align:left;\">\n    <a href=\"0- START HERE.ipynb\">⬅️PREVIOUS</a>\n    <span style=\"float:right;\">\n        <a href=\"1.2 - VECTOR SPACES.ipynb\" >NEXT➡️</a>\n    </span>\n</p>",
      "metadata": {}
    },
    {
      "id": "d3dc3776-a90d-460a-a8cb-dd7830d6c4ee",
      "cell_type": "code",
      "source": "",
      "metadata": {
        "trusted": true
      },
      "outputs": [],
      "execution_count": null
    }
  ]
}