{
  "metadata": {
    "kernelspec": {
      "name": "python",
      "display_name": "Python (Pyodide)",
      "language": "python"
    },
    "language_info": {
      "codemirror_mode": {
        "name": "python",
        "version": 3
      },
      "file_extension": ".py",
      "mimetype": "text/x-python",
      "name": "python",
      "nbconvert_exporter": "python",
      "pygments_lexer": "ipython3",
      "version": "3.8"
    }
  },
  "nbformat_minor": 5,
  "nbformat": 4,
  "cells": [
    {
      "id": "79ac94dd-dd58-40f3-bef4-45d511ec9fec",
      "cell_type": "markdown",
      "source": "# Orthogonal Matrices\n\nLet $\\mathbf{A} : \\mathbb{R}^n \\to \\mathbb{R}^n$ be an orthogonal linear\noperator, i.e., its columns are orthonormal vectors. In this case, there\nexists $\\mathbf{A}^{-1} = \\mathbf{A}^\\top$, i.e.,\n$\\mathbf{A}^\\top \\mathbf{A} = \\mathbf{I}$. Existence of the inverse\nimplies that the dimension of the null space is equal to zero, therefore\nthe only vector $\\mathbf{v}$ that satisfies $\\mathbf{A}\\mathbf{v} = 0$\nis $\\mathbf{v} = 0$. Consequently $\\lambda = 0$ cannot be an eigenvalue\nof $\\mathbf{A}$, for that would require $\\mathbf{A}\\mathbf{v} = 0$ for\nsome $\\mathbf{v} \\ne 0$. We shall show that, in fact, orthogonal\nmatrices have all eigenvalues with magnitude equal to one. *19. Tétel*\n\n> *The eigenvalues of an orthogonal linear operator have magnitude equal\n> to one.*\n\nLet us assume that $\\lambda$ is an eigenvalue of\n$\\mathbf{A}$, an orthogonal operator in $\\mathbb{R}$, associated with\nthe eigenvector $\\mathbf{v}$. Let us also assume that\n$\\|\\mathbf{v}\\| = 1$ without loss of generality. Therefore\n$\\mathbf{A}\\mathbf{v} = \\lambda \\mathbf{v}$ and also\n$\\mathbf{v}^H \\mathbf{A}\\mathbf{v} = \\lambda \\mathbf{v}^H \\mathbf{v} = \\lambda$,\nwhere $(\\cdot)^*$ denotes the complex conjugate, and $(\\cdot)^H$ the\nHermitian, i.e., the complex conjugate of the transpose. As the\nHermitian of a scalar is its complex conjugate, we have\n$(\\mathbf{v}^H \\mathbf{A} \\mathbf{v})^H = \\mathbf{v}^H \\mathbf{A}^\\top \\mathbf{v} = \\bar{\\lambda}$.\nBut as $\\mathbf{A}$ is orthogonal,\n$\\mathbf{A}^\\top \\mathbf{A} = \\mathbf{v} = \\lambda \\mathbf{A}^\\top \\mathbf{v}$\nand $\\mathbf{v}^H \\mathbf{v} = 1 = \\lambda \\bar{\\lambda} = |\\lambda|^2$.\n\nThe eigenvalues of orthogonal symmetric matrices are either $1$, or\n$-1$.",
      "metadata": {}
    },
    {
      "id": "c1e56564-7483-4601-b17a-8e551a4a686d",
      "cell_type": "markdown",
      "source": "### Applications\n#### 2D and 3D rotation using orthogonal matrices",
      "metadata": {}
    },
    {
      "id": "c9eaaa5f-f1d7-4755-9204-d160ed3229c3",
      "cell_type": "markdown",
      "source": "Orthognal Matrices are also isometric transformations, it means that when we apply a vector to it, the result will have the same orginal module and, \nif we're considering more than one vector, the angle between them will also be preserved. This property will allow us to use isometric matrices to\nvarious aplications, such as 2D and 3D rotation of objects, once they won't be distorted by the transformation.\n\nFirst, lets see how it works for 2D objects. In the example bellow, using matrices, you'll be able to define a polygon in the XY plan and create a orthogonal rotation matrix based on an inputed angle (in degrees). Once it's done, just click the \"ROTATE\" button  and analyse the rotation.",
      "metadata": {}
    },
    {
      "id": "bc84278d-af76-46ed-ae8e-daf4550d6ff9",
      "cell_type": "code",
      "source": "%pip install -q ipywidgets==8.0.7 ",
      "metadata": {
        "trusted": true
      },
      "outputs": [],
      "execution_count": 6
    },
    {
      "id": "eed69b43-592e-4566-bb74-2e292c30396b",
      "cell_type": "code",
      "source": "%pip install matplotlib ipywidgets scipy scikit-image",
      "metadata": {
        "trusted": true
      },
      "outputs": [],
      "execution_count": 29
    },
    {
      "id": "520ddca4-e8db-46f1-93d6-b8d30bcc4117",
      "cell_type": "code",
      "source": "import numpy as np\nimport matplotlib.pyplot as plt\nfrom mpl_toolkits.mplot3d.art3d import Poly3DCollection\nimport ipywidgets as widgets\nfrom IPython.display import display, clear_output",
      "metadata": {
        "trusted": true
      },
      "outputs": [],
      "execution_count": 22
    },
    {
      "id": "64116743-2d04-4594-9032-eb50e17c1353",
      "cell_type": "code",
      "source": "def get_object(obj_type):\n    if obj_type == 'square':\n        return np.array([[1, 1], [-1, 1], [-1, -1], [1, -1], [1, 1]])\n    elif obj_type == 'triangle':\n        return np.array([[1, 1], [0, 1], [-1, -1], [1, 1]])\n    elif obj_type == 'pentagon':\n        return np.array([[-0.5, -1], [0.5, -1], [1, 0], [0, 1], [-1, 0], [-0.5, -1]])\n    else:\n        return np.array([[0, -1], [1, -0.5], [1, 0.5], [0, 1], [-1, 0.5], [-1, -0.5], [0, -1]])\n\ndef rotate(obj, angle_degrees):\n    angle_rad = np.deg2rad(angle_degrees)\n    rot_matrix = np.array([[np.cos(angle_rad), -np.sin(angle_rad)],\n                           [np.sin(angle_rad),  np.cos(angle_rad)]])\n    return obj @ rot_matrix.T\n\ndef interactive_rotation(obj_type, angle_degrees):\n    obj = get_object(obj_type)\n    rotated = rotate(obj, angle_degrees)\n    \n    clear_output(wait=True)\n    plt.figure(figsize=(6, 6))\n    plt.plot(obj[:, 0], obj[:, 1], 'b-', label='Original')\n    plt.plot(rotated[:, 0], rotated[:, 1], 'r--', label=f'Rotated ({angle_degrees}°)')\n    plt.axhline(0, color='gray', linewidth=0.5)\n    plt.axvline(0, color='gray', linewidth=0.5)\n    plt.gca().set_aspect('equal')\n    plt.grid(True)\n    plt.legend()\n    plt.title(\"Rotation of an object with orthogonal matrices\")\n    plt.show()\n\nobject_selector = widgets.RadioButtons(\n    options=['triangle', 'square', 'pentagon', 'hexagon'],\n    value='square', \n    description='Object:',\n)\n\nangle_selector = widgets.IntSlider(\n    value=45,\n    min=0,\n    max=360,\n    step=15,\n    description='Rotation Angle:',\n    continuous_update=True\n)\n\nui = widgets.VBox([object_selector, angle_selector])\nout = widgets.interactive_output(interactive_rotation, {\n    'obj_type': object_selector,\n    'angle_degrees': angle_selector\n})\n\ndisplay(ui, out)",
      "metadata": {
        "trusted": true
      },
      "outputs": [
        {
          "output_type": "display_data",
          "data": {
            "text/plain": "VBox(children=(RadioButtons(description='Object:', index=1, options=('triangle', 'square', 'pentagon', 'hexago…",
            "application/vnd.jupyter.widget-view+json": {
              "version_major": 2,
              "version_minor": 0,
              "model_id": "f5fd21044cd749e29c42cbe9191f1da6"
            }
          },
          "metadata": {}
        },
        {
          "output_type": "display_data",
          "data": {
            "text/plain": "Output()",
            "application/vnd.jupyter.widget-view+json": {
              "version_major": 2,
              "version_minor": 0,
              "model_id": "96a2ac91f1aa4cb8a1fbea9fb4b949b3"
            }
          },
          "metadata": {}
        }
      ],
      "execution_count": 20
    },
    {
      "id": "eed8467d-e50b-474a-8372-6f6207dc1ed8",
      "cell_type": "markdown",
      "source": "Let's do it again, but now for a cube in a 3D space. This try to create diferent polyhedrons (such as pyramids and hexahedrons) by modifing the \"points\" array directly in the code.",
      "metadata": {}
    },
    {
      "id": "153c52c1-7c4b-409a-9089-2c082d5479a5",
      "cell_type": "code",
      "source": "def get_cube():\n    points = np.array([[x, y, z] for x in [-1, 1] for y in [-1, 1]for z in [-1, 1]])\n    return points\n\n#getting faces of the cube\ndef get_faces(points):\n    return [[points[j] for j in [0, 1, 3, 2]],\n            [points[j] for j in [4, 5, 7, 6]],\n            [points[j] for j in [0, 1, 5, 4]],\n            [points[j] for j in [2, 3, 7, 6]],\n            [points[j] for j in [1, 3, 7, 5]],\n            [points[j] for j in [0, 2, 6, 4]]]\n\ndef rotation_matrix(axis, angle_degrees):\n    angle = np.deg2rad(angle_degrees)\n    if axis == 'x':\n        return np.array([[1, 0, 0], [0, np.cos(angle), -np.sin(angle)], [0, np.sin(angle),  np.cos(angle)]])\n    elif axis == 'y':\n        return np.array([[ np.cos(angle), 0, np.sin(angle)], [0, 1, 0], [-np.sin(angle), 0, np.cos(angle)]])\n    elif axis == 'z':\n        return np.array([[np.cos(angle), -np.sin(angle), 0], [np.sin(angle),  np.cos(angle), 0], [0, 0, 1]])\n\n\n# Função principal interativa\ndef interactive_cube(axis, angle):\n    cube = get_cube()\n    rot = rotation_matrix(axis, angle)\n    rotated = cube @ rot.T\n    faces = get_faces(rotated)\n    clear_output(wait=True)\n    fig = plt.figure(figsize=(6, 6))\n    ax = fig.add_subplot(111, projection='3d')\n    ax.add_collection3d(Poly3DCollection(faces, facecolors='lightblue', edgecolors='black', linewidths=1, alpha=0.8))\n    ax.set_xlim([-2, 2])\n    ax.set_ylim([-2, 2])\n    ax.set_zlim([-2, 2])\n    ax.set_box_aspect([1,1,1])\n    ax.set_title(f\"Rotated Cube around '{axis}' axis ({angle}°)\")\n    plt.show()\n\naxis_selector = widgets.RadioButtons(options=['x', 'y', 'z'], value='x',description='Axis:')\nangle_slider = widgets.IntSlider(value=0, min=0, max=360, step=15, description='Angle:', continuous_update=True)\nui = widgets.VBox([axis_selector, angle_slider])\nout = widgets.interactive_output(interactive_cube, {'axis': axis_selector,'angle': angle_slider})\n\ndisplay(ui, out)",
      "metadata": {
        "trusted": true
      },
      "outputs": [
        {
          "output_type": "display_data",
          "data": {
            "text/plain": "VBox(children=(RadioButtons(description='Axis:', options=('x', 'y', 'z'), value='x'), IntSlider(value=0, descr…",
            "application/vnd.jupyter.widget-view+json": {
              "version_major": 2,
              "version_minor": 0,
              "model_id": "722010d7067e4bffb0491809b22c449e"
            }
          },
          "metadata": {}
        },
        {
          "output_type": "display_data",
          "data": {
            "text/plain": "Output()",
            "application/vnd.jupyter.widget-view+json": {
              "version_major": 2,
              "version_minor": 0,
              "model_id": "858ccef4c7c746e1997957dc1239a92a"
            }
          },
          "metadata": {}
        }
      ],
      "execution_count": 28
    },
    {
      "id": "3aadf0fe-0221-4899-a101-7e8e3f880679",
      "cell_type": "markdown",
      "source": "#### Discrete Cosine Transform (DCT)\nThe discrete cosine transform (DCT) represents an image as a sum of sinusoids of varying magnitudes and frequencies. The DCT2D function computes the two-dimensional discrete cosine transform (DCT) of an image. The DCT has the property that, for a typical image, most of the visually significant information about the image is concentrated in Low-frequencies (smooth regions), while High-frequency details (sharp edges, noise) can often be discarded without a noticeable effect. For this reason, the DCT is often used in image compression applications. For example, the DCT is at the heart of the international standard lossy image compression algorithm known as JPEG.\n\nImagine a row of pixel values:  \n[100, 105, 110, 115, 120] → smooth change (low frequency).\n\n[100, 150, 100, 150, 100] → rapid change (high frequency).\n\nThe DCT can express this sequence as a combination of cosine functions.  \nFor one dimension (1D), For a sequence of N values x[k], the DCT is:\n\n![image.png](attachment:13b9ff75-b30d-4704-84f0-4dd15ee30430.png)  \n\n**Notice:** For images, we use the 2D DCT — apply it to rows and then to columns.  \n\nThe values **X[k]** are the **DCT coefficients**, which indicate how much of each frequency is present in the original signal or image.  \nYou can imagine this transformation like this:  \n> **Original 8x8 image block**  \n↓  \n**Apply DCT**  \n↓  \n**8x8 matrix of coefficients (frequency information)**\n> \n\n**[0,0] coefficient:** represents the average intensity (DC component).  \n**Other coefficients:** represent higher frequency patterns — edges, textures, etc  \n\nThe coefficients that represents the higher frequency patterns can be removed gradually, so the image gets compressed (loses quality). You can see it in the example bellow, where you can select the percentage of remaining coeffiecients. Notice that the more you decrease this level, the less image details can be distinguished.\n",
      "metadata": {},
      "attachments": {
        "13b9ff75-b30d-4704-84f0-4dd15ee30430.png": {
          "image/png": "[encoded data removed]"
        }
      }
    },
    {
      "id": "d9b9b727-916e-4260-80fb-26fabf08a952",
      "cell_type": "code",
      "source": "from skimage import data, color\nfrom scipy.fftpack import dct, idct",
      "metadata": {
        "trusted": true
      },
      "outputs": [],
      "execution_count": 32
    },
    {
      "id": "ccf43916-91b6-41c3-82a4-bdb905c675de",
      "cell_type": "code",
      "source": "img = color.rgb2gray(data.astronaut())  \nimg = img[:256, :256] #cropping image to see the changes better\n\n# DCT 2D\ndef dct2(a):\n    return dct(dct(a.T, norm='ortho').T, norm='ortho')\n\n# IDCT 2D\ndef idct2(a):\n    return idct(idct(a.T, norm='ortho').T, norm='ortho')\n\n# Compression\ndef compress_image(keep_ratio):\n    dct_coeffs = dct2(img)\n    threshold = np.percentile(np.abs(dct_coeffs), 100 - keep_ratio)\n    dct_low = dct_coeffs * (np.abs(dct_coeffs) >= threshold)\n    img_reconstructed = idct2(dct_low)\n    \n    plt.figure(figsize=(10, 5))\n    plt.subplot(1, 2, 1)\n    plt.imshow(img, cmap='gray')\n    plt.title(\"Imagem Original\")\n    plt.axis('off')\n    plt.subplot(1, 2, 2)\n    plt.imshow(img_reconstructed, cmap='gray')\n    plt.title(f\"Reconstruída ({keep_ratio:.0f}% coef.)\")\n    plt.axis('off')\n    plt.tight_layout()\n    plt.show()\n\ncompress_slider = widgets.IntSlider(value=100, min=1, max=100, step=1,description='Remaining (%)',continuous_update=True)\n\nwidgets.interact(compress_image, keep_ratio=compress_slider)\n",
      "metadata": {
        "trusted": true
      },
      "outputs": [
        {
          "output_type": "display_data",
          "data": {
            "text/plain": "interactive(children=(IntSlider(value=100, description='Remaining (%)', min=1), Output()), _dom_classes=('widg…",
            "application/vnd.jupyter.widget-view+json": {
              "version_major": 2,
              "version_minor": 0,
              "model_id": "21cdc83aa8ef4458b62b8b74c39a408d"
            }
          },
          "metadata": {}
        },
        {
          "execution_count": 37,
          "output_type": "execute_result",
          "data": {
            "text/plain": "<function __main__.compress_image(keep_ratio)>"
          },
          "metadata": {}
        }
      ],
      "execution_count": 37
    },
    {
      "id": "13f1be49-7022-42d8-9a3c-eed557ca52d7",
      "cell_type": "markdown",
      "source": "<br>\n<p style=\"text-align:left;\">\n    <a href=\"5.3 - NUMBER OF EIGENVALUES AND EIGENVECTORS.ipynb\">⬅️PREVIOUS</a>\n    <span style=\"float:right;\">\n        <a href=\"5.6 - GENERALIZED EIGENVECTORS.ipynb\" >NEXT➡️</a>\n    </span>\n</p>",
      "metadata": {}
    },
    {
      "id": "507d85a6-c96f-41cf-9be7-206e008e2fe9",
      "cell_type": "code",
      "source": "",
      "metadata": {
        "trusted": true
      },
      "outputs": [],
      "execution_count": null
    }
  ]
}